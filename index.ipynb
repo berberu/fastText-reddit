{
 "cells": [
  {
   "cell_type": "markdown",
   "metadata": {
    "slideshow": {
     "slide_type": "slide"
    }
   },
   "source": [
    "# Using fastText to classify reddit submissions\n",
    "\n",
    "## A quick and dirty tutorial\n",
    "\n",
    "Will Radford - @wejradford"
   ]
  },
  {
   "cell_type": "markdown",
   "metadata": {
    "slideshow": {
     "slide_type": "slide"
    }
   },
   "source": [
    "# fastText\n",
    "\n",
    "Concerted programme of research from Facebook towards practical text classification. Three key papers from 2016:\n",
    "* [Enriching Word Vectors with Subword Information](https://arxiv.org/abs/1607.04606)\n",
    "* [Bag of Tricks for Efficient Text Classification](https://arxiv.org/abs/1607.01759)\n",
    "* [FastText.zip: Compressing text classification models](https://arxiv.org/abs/1612.03651)\n",
    "\n",
    "Open source at [GitHub](https://github.com/facebookresearch/fastText) and [elsewhere](https://fasttext.cc/)"
   ]
  },
  {
   "cell_type": "markdown",
   "metadata": {
    "slideshow": {
     "slide_type": "subslide"
    }
   },
   "source": [
    "# How does it work?\n",
    "\n",
    "![title](https://github.com/wejradford/wejradford.github.io/raw/master/fastTextArch.png)\n",
    "\n",
    "* Lowest layer maps n-grams to `d`-dimension word embeddings (à la word2vec) _smushed_ together with averaging.\n",
    "* Hidden layer maps each dimension to a weight.\n",
    "* Top layer is the label."
   ]
  },
  {
   "cell_type": "markdown",
   "metadata": {
    "slideshow": {
     "slide_type": "subslide"
    }
   },
   "source": [
    "# Mixing neural and shallow models\n",
    "\n",
    "* Word embeddings for a **task-specific** representation\n",
    "* Linear models for **fast** learning and prediction\n",
    "  \n",
    "$\\rightarrow$ **Faster and hopefully better than bag-of-words**"
   ]
  },
  {
   "cell_type": "markdown",
   "metadata": {
    "slideshow": {
     "slide_type": "subslide"
    }
   },
   "source": [
    "# Dealing with large vocabulary\n",
    "\n",
    "* Word n-grams give more context than words alone\n",
    "```python\n",
    ">>> tokens('the cat sat on the mat')\n",
    "['the', 'cat', 'sat', 'on', 'the', 'mat']\n",
    ">>> ngrams('the cat sat on the mat')\n",
    "['START_the', 'the_cat', 'cat_sat', 'sat_on', 'on_the', 'the_mat', 'mat_END']\n",
    "```\n",
    "* But:\n",
    "  * Much sparser features (more zeros than non-zeros)\n",
    "  * Need to maintain the mappings from `sat_on` to `feature_12345`, which costs memory and slows multicore learning\n",
    "\n",
    "* _The hashing trick_ (see also [vowpal wabbit](https://github.com/JohnLangford/vowpal_wabbit) maps n-grams into a constrained memory space\n",
    "\n",
    "$\\rightarrow$ **More memory-efficient and parallelisable learning**"
   ]
  },
  {
   "cell_type": "markdown",
   "metadata": {
    "slideshow": {
     "slide_type": "subslide"
    }
   },
   "source": [
    "# Classifying in large label spaces\n",
    "\n",
    "* Linear classifiers run at $O(fk)$ where:\n",
    "  * $f$ the number of features (i.e. dimensions)\n",
    "  * $k$ is the number of labels\n",
    "* Hierarchical softmax reduces this to $O(f\\log_{2}k)$ by building a tree of labels arranged by probability.\n",
    "\n",
    "$\\rightarrow$ **Faster with some accuracy cost**"
   ]
  },
  {
   "cell_type": "markdown",
   "metadata": {
    "slideshow": {
     "slide_type": "subslide"
    }
   },
   "source": [
    "# Compressing models\n",
    "\n",
    "* Large models limit the deployment environment and increase load time\n",
    "* _Vector quantisation_ lossily compresses the model\n",
    "\n",
    "$\\rightarrow$ **Smaller models at some accuracy cost**"
   ]
  },
  {
   "cell_type": "markdown",
   "metadata": {
    "slideshow": {
     "slide_type": "subslide"
    }
   },
   "source": [
    "# Handling unseen words\n",
    "\n",
    "* Bag-of-words limits the model to handling those words seen in training (maybe not for hashing...).\n",
    "* Learn **character** n-grams embeddings to handle morphology (e.g. \"**mak**e\", \"**mak**ing\", \"**mak**o\") and unknown words.\n",
    "* Pre-initialising word embeddings with those learned from different corpora.\n",
    "\n",
    "$\\rightarrow$ **More robust models**"
   ]
  },
  {
   "cell_type": "markdown",
   "metadata": {
    "slideshow": {
     "slide_type": "slide"
    }
   },
   "source": [
    "# A toy task\n",
    "\n",
    "* Reddit submissions collected at http://files.pushshift.io/reddit/submissions/\n",
    "* Downloadable as `json`\n",
    "  * `title` The title of the submission\n",
    "  * `subreddit` The subreddit it was submitted to\n",
    "  \n",
    "$\\rightarrow$ Given the `title`, predict which `subreddit` it belongs to."
   ]
  },
  {
   "cell_type": "markdown",
   "metadata": {
    "slideshow": {
     "slide_type": "skip"
    }
   },
   "source": [
    "## Installation\n",
    "\n",
    "* Install [homebrew](https://brew.sh) if you're on Mac OSX\n",
    "* Install python3 and some packaging utilities:\n",
    "```bash\n",
    "brew install python3\n",
    "pip3.6 install -U pip wheel\n",
    "```\n",
    "* Clone the [fastText](https://github.com/facebookresearch/fastText) repo, and build `fastText`:\n",
    "```bash\n",
    "git clone https://github.com/facebookresearch/fastText.git\n",
    "cd fastText\n",
    "make\n",
    "```\n",
    "* If you want to use the python bindings (we don't here):\n",
    "```bash\n",
    "cd python\n",
    "pip3.6 install numpy scipy pybind11\n",
    "python3.6 setup bdist_wheel\n",
    "pip3 install dist/*whl\n",
    "```\n",
    "* Install the notebook environment:\n",
    "```bash\n",
    "pip3 install jupyter seaborn ujson nltk sklearn\n",
    "jupyter notebook\n",
    "```\n",
    "* Fetch the data:\n",
    "```bash\n",
    "wget http://files.pushshift.io/reddit/submissions/RS_2017-08.bz2\n",
    "```"
   ]
  },
  {
   "cell_type": "markdown",
   "metadata": {
    "slideshow": {
     "slide_type": "subslide"
    }
   },
   "source": [
    "# Preprocessing\n",
    "\n",
    "* Take each post\n",
    "* Find the first sentence\n",
    "* Apply a `really dumb tokeniser to split words !`\n",
    "* Use the subreddit topic as the label"
   ]
  },
  {
   "cell_type": "markdown",
   "metadata": {
    "slideshow": {
     "slide_type": "subslide"
    }
   },
   "source": [
    "# Streaming through reddit submissions\n",
    "\n",
    "* First 50K used to find the top-20 common labels (plus `other`), and for training embeddings\n",
    "* Next 10K for training\n",
    "* Next 10K for development\n",
    "* Next 1K for test"
   ]
  },
  {
   "cell_type": "markdown",
   "metadata": {
    "slideshow": {
     "slide_type": "subslide"
    }
   },
   "source": [
    "# Training the model\n",
    "\n",
    "* Wrap command-line `fastText` using some python\n",
    "* Call and predict, returning:\n",
    "  * Precision\n",
    "  * Recall\n",
    "  * F1\n",
    "  * Training time\n",
    "  * Model size"
   ]
  },
  {
   "cell_type": "markdown",
   "metadata": {
    "slideshow": {
     "slide_type": "subslide"
    }
   },
   "source": [
    "# Sanity-check baseline \n",
    "\n",
    "* Using `scikit-learn`, nothing fancy\n",
    "* Bag of words (unigrams and bigrams)\n",
    "* Logistic regression prediction"
   ]
  },
  {
   "cell_type": "code",
   "execution_count": 1,
   "metadata": {
    "collapsed": true,
    "slideshow": {
     "slide_type": "skip"
    }
   },
   "outputs": [],
   "source": [
    "% matplotlib inline\n",
    "import bz2\n",
    "from collections import Counter\n",
    "import lzma\n",
    "import os\n",
    "import pprint\n",
    "import re\n",
    "import subprocess\n",
    "import time\n",
    "\n",
    "import ujson as json\n",
    "import pandas as pd\n",
    "import seaborn as sns\n",
    "sns.set_context('talk')\n",
    "from sklearn.linear_model import LogisticRegression\n",
    "from sklearn.feature_extraction import DictVectorizer\n",
    "from sklearn.feature_extraction.text import HashingVectorizer\n",
    "from sklearn.model_selection import GridSearchCV, RandomizedSearchCV\n",
    "from sklearn.pipeline import Pipeline\n",
    "from sklearn import metrics\n",
    "from sklearn.externals import joblib\n",
    "from matplotlib import pyplot as plt"
   ]
  },
  {
   "cell_type": "code",
   "execution_count": 2,
   "metadata": {
    "slideshow": {
     "slide_type": "skip"
    }
   },
   "outputs": [],
   "source": [
    "# Tokenisation expression.\n",
    "EXP = re.compile('\\w+|\\$[\\d\\.]+|\\S+')\n",
    "FINAL = {'.', '?', '!'}\n",
    "\n",
    "\n",
    "def get_first_sentence(s):\n",
    "    \"\"\" A very naïve method for finding\n",
    "    the first sentence.\n",
    "    \n",
    "    Returns:\n",
    "        A whitespace-normalised version of the sentence.\n",
    "    \"\"\"\n",
    "    tokens = []\n",
    "    for m in EXP.finditer(s.replace('\\n', ' ')):\n",
    "        t = m.group(0)\n",
    "        if not t.strip():\n",
    "            continue\n",
    "        if t in FINAL or len(tokens) == 50:\n",
    "            break\n",
    "        tokens.append(t)\n",
    "    return ' '.join(tokens)\n",
    "\n",
    "\n",
    "def write_data(data, fname, write_label=True):\n",
    "    \"\"\" Writes data to file in fastText format. \"\"\"\n",
    "    with open(fname, 'w') as f:\n",
    "        for label, text in data:\n",
    "            if write_label:\n",
    "                f.write('__label__{} {}\\n'.format(label, text))\n",
    "            else:\n",
    "                f.write('{}\\n'.format(text))"
   ]
  },
  {
   "cell_type": "code",
   "execution_count": 3,
   "metadata": {
    "scrolled": false,
    "slideshow": {
     "slide_type": "skip"
    }
   },
   "outputs": [],
   "source": [
    "def iter_reddit(fname):\n",
    "    \"\"\" Yields tuples of (created, subreddit, sentence). \"\"\"\n",
    "    _open = open\n",
    "    if fname.endswith('.xz'):\n",
    "        _open = lzma.open\n",
    "    elif fname.endswith('.bz2'):\n",
    "        _open = bz2.open\n",
    "    with _open(fname) as f:\n",
    "        read = 0\n",
    "        for l in f:\n",
    "            l = json.loads(l)\n",
    "            # pprint.pprint(l)\n",
    "            sentence = get_first_sentence(l['title'])\n",
    "            if not sentence:\n",
    "                continue\n",
    "            subreddit = l.get('subreddit')\n",
    "            if subreddit is None:\n",
    "                continue\n",
    "            yield l['created_utc'], subreddit, sentence\n",
    "            read += 1"
   ]
  },
  {
   "cell_type": "code",
   "execution_count": 4,
   "metadata": {
    "collapsed": true,
    "scrolled": false,
    "slideshow": {
     "slide_type": "skip"
    }
   },
   "outputs": [],
   "source": [
    "def build_data(fname):\n",
    "    \"\"\" Passes through the data, collecting and returning some datasets. \"\"\"\n",
    "    burnin = []\n",
    "    train = []\n",
    "    dev = []\n",
    "    test = []\n",
    "    burnin_n = 100000\n",
    "    train_n = 10000\n",
    "    dev_n = 1000\n",
    "    test_n = 1000\n",
    "    subreddits = Counter()\n",
    "    top_20_subreddits = None\n",
    "    print('Finding {} sentences for burnin'.format(burnin_n))\n",
    "    for i, (created, subreddit, body) in enumerate(iter_reddit(fname)):\n",
    "        if 'dirty' in subreddit.lower():\n",
    "            continue\n",
    "        # Get a count of common subreddits.\n",
    "        if i < burnin_n:\n",
    "            subreddits[subreddit] += 1\n",
    "            burnin.append(body)\n",
    "            continue\n",
    "        elif not top_20_subreddits:\n",
    "            top_20_subreddits = set(k for k, _ in subreddits.most_common(20))\n",
    "            print('Found top 20 subreddits {}'.format(top_20_subreddits))\n",
    "        elif subreddit not in top_20_subreddits:\n",
    "            continue\n",
    "        \n",
    "        if i % 1000 == 0:\n",
    "            print('Collected train/dev/test {}/{}/{}'.format(len(train), len(dev), len(test)))\n",
    "\n",
    "        if len(train) < train_n:\n",
    "            train.append((subreddit, body))\n",
    "        elif len(dev) < dev_n:\n",
    "            dev.append((subreddit, body))\n",
    "        elif len(test) < test_n:\n",
    "            test.append((subreddit, body))\n",
    "        else:\n",
    "            break\n",
    "    print('Collected train/dev/test {}/{}/{}'.format(len(train), len(dev), len(test)))\n",
    "    return burnin, train, dev, test"
   ]
  },
  {
   "cell_type": "code",
   "execution_count": 5,
   "metadata": {
    "slideshow": {
     "slide_type": "skip"
    }
   },
   "outputs": [
    {
     "name": "stdout",
     "output_type": "stream",
     "text": [
      "Finding 100000 sentences for burnin\n",
      "Found top 20 subreddits {'newsbotbot', 'AskReddit', 'GlobalOffensiveTrade', 'RocketLeagueExchange', 'aww', 'Overwatch', 'AutoNewspaper', 'gonewild', 'MemezForDayz', 'gameofthrones', 'The_Donald', 'business', 'Showerthoughts', 'gaming', 'pics', 'funny', 'videos', 'Ice_Poseidon', 'news', 'me_irl'}\n",
      "Collected train/dev/test 0/0/0\n",
      "Collected train/dev/test 931/0/0\n",
      "Collected train/dev/test 3011/0/0\n",
      "Collected train/dev/test 4037/0/0\n",
      "Collected train/dev/test 5511/0/0\n",
      "Collected train/dev/test 5663/0/0\n",
      "Collected train/dev/test 6523/0/0\n",
      "Collected train/dev/test 7155/0/0\n",
      "Collected train/dev/test 7946/0/0\n",
      "Collected train/dev/test 8147/0/0\n",
      "Collected train/dev/test 9690/0/0\n",
      "Collected train/dev/test 10000/542/0\n",
      "Collected train/dev/test 10000/801/0\n",
      "Collected train/dev/test 10000/948/0\n",
      "Collected train/dev/test 10000/1000/1000\n"
     ]
    }
   ],
   "source": [
    "def setup_data(clean=False):\n",
    "    \"\"\" Sets up the data -- CAUTION: this can take a bit... \"\"\"\n",
    "    if clean and os.path.exists('train.json'):\n",
    "        os.remove('train.json')\n",
    "    if not os.path.exists('train.json'):\n",
    "        burnin, train, dev, test = build_data('/Users/admin/fastText-tute/RS_2017-08.bz2')\n",
    "        for data, fname in ((burnin, 'burnin.json'), (train, 'train.json'), \n",
    "                            (dev, 'dev.json'), (test, 'test.json')):\n",
    "            with open(fname, 'w') as f:\n",
    "                f.write(json.dumps(data))\n",
    "    else:\n",
    "        burnin = json.loads(open('burnin.json').read())\n",
    "        train = json.loads(open('train.json').read())\n",
    "        dev = json.loads(open('dev.json').read())\n",
    "        test = json.loads(open('test.json').read())\n",
    "    return burnin, train, dev, test\n",
    "\n",
    "        \n",
    "burnin, train, dev, test = setup_data(True)"
   ]
  },
  {
   "cell_type": "code",
   "execution_count": 6,
   "metadata": {
    "collapsed": true,
    "slideshow": {
     "slide_type": "skip"
    }
   },
   "outputs": [],
   "source": [
    "def fastText(train, test, name='fastText', ngrams=2, epoch=90, bucket=200000, dim=50,\n",
    "             maxn=1,\n",
    "             vectors=None, quantize=False, report=True):\n",
    "    \"\"\" Trains supervised fastText models. \"\"\"\n",
    "    train_fname = 'train.txt'\n",
    "    test_fname = 'test.txt'\n",
    "    model_fname = 'model'\n",
    "    write_data(train, train_fname)\n",
    "    write_data(test, test_fname)\n",
    "    cmd = 'fastText/fasttext'\n",
    "    args = [\n",
    "        'supervised',\n",
    "        '-input {}'.format(train_fname),\n",
    "        '-output {}'.format(model_fname),\n",
    "        '-wordNgrams {}'.format(ngrams),\n",
    "        '-epoch {}'.format(epoch),\n",
    "        '-bucket {}'.format(bucket),\n",
    "        '-dim {}'.format(dim),\n",
    "        '-maxn {}'.format(maxn),\n",
    "        '-loss hs',\n",
    "    ]\n",
    "    if vectors:\n",
    "        args.append('-pretrainedVectors {}'.format(vectors))\n",
    "    start = time.time()\n",
    "    output = subprocess.getoutput('{} {} 2> model.log'.format(cmd, ' '.join(args)))\n",
    "    if quantize:\n",
    "        cmd = 'fastText/fasttext'\n",
    "        args = [\n",
    "            'quantize',\n",
    "            '-input {}'.format(train_fname),\n",
    "            '-output {}'.format(model_fname),\n",
    "            '-qnorm -retrain -epoch 1 -cutoff 100000',\n",
    "        ]\n",
    "        output = subprocess.getoutput('{} {} 2> quant.log'.format(cmd, ' '.join(args)))\n",
    "    elapsed = time.time() - start\n",
    "    model_fname = 'model.bin' if not quantize else 'model.ftz'\n",
    "    test_fname = 'test.txt'\n",
    "    cmd = 'fastText/fasttext predict'\n",
    "    args = [\n",
    "        model_fname,\n",
    "        test_fname,\n",
    "    ]\n",
    "    output = subprocess.getoutput('{} {} 2> predict.log'.format(cmd, ' '.join(args)))\n",
    "    Y_test = [i[0] for i in test]\n",
    "    pred = [l.strip().replace('__label__', '') for l in output.strip().split('\\n')]\n",
    "    stat = os.stat(model_fname)\n",
    "    if report:    \n",
    "        print(metrics.classification_report(Y_test, pred))\n",
    "    return {\n",
    "        'p': metrics.precision_score(Y_test, pred, average='micro'),\n",
    "        'r': metrics.recall_score(Y_test, pred, average='micro'),\n",
    "        'f': metrics.f1_score(Y_test, pred, average='micro'),\n",
    "        'time': elapsed,\n",
    "        'size': stat.st_size,\n",
    "        'name': name,\n",
    "        'ngrams': ngrams, \n",
    "        'epoch': epoch, \n",
    "        'bucket': bucket, \n",
    "        'dim': dim,\n",
    "        'maxn': maxn,\n",
    "        'vectors': vectors is not None,\n",
    "        'quantize': quantize,\n",
    "    }"
   ]
  },
  {
   "cell_type": "code",
   "execution_count": 7,
   "metadata": {
    "collapsed": true,
    "slideshow": {
     "slide_type": "skip"
    }
   },
   "outputs": [],
   "source": [
    "def to_xy(data):\n",
    "    \"\"\" Transforms a list of (label, text) tuples to lists as per sklearn. \"\"\"\n",
    "    X, Y = [], [] \n",
    "    for label, text in data:\n",
    "        X.append(text)\n",
    "        Y.append(label)\n",
    "    return X, Y\n",
    "\n",
    "\n",
    "def baseline(train, test, name='baseline', penalty='l2', C=10, report=True):\n",
    "    \"\"\" Trains a baseline model. \"\"\"\n",
    "    c = Pipeline([\n",
    "        ('vec', HashingVectorizer(ngram_range=(1, 2))),\n",
    "        ('clf', LogisticRegression(penalty=penalty, C=C)),\n",
    "    ])\n",
    "    X_train, Y_train = to_xy(train)\n",
    "    start = time.time()\n",
    "    c.fit(X_train, Y_train)\n",
    "    elapsed = time.time() - start\n",
    "    X_test, Y_test = to_xy(test)\n",
    "    pred = c.predict(X_test)\n",
    "    model_fname = 'model.sklearn'\n",
    "    joblib.dump(c, model_fname)\n",
    "    stat = os.stat(model_fname)\n",
    "    if report:\n",
    "        print(metrics.classification_report(Y_test, pred))\n",
    "    return {\n",
    "        'p': metrics.precision_score(Y_test, pred, average='micro'),\n",
    "        'r': metrics.recall_score(Y_test, pred, average='micro'),\n",
    "        'f': metrics.f1_score(Y_test, pred, average='micro'),\n",
    "        'time': elapsed,\n",
    "        'size': stat.st_size,\n",
    "        'name': name,\n",
    "    }"
   ]
  },
  {
   "cell_type": "markdown",
   "metadata": {
    "slideshow": {
     "slide_type": "skip"
    }
   },
   "source": [
    "# Manual hyper-parameter optimisation\n",
    "\n",
    "Train on `train`, measure on `dev`.\n",
    "\n",
    "## Baseline"
   ]
  },
  {
   "cell_type": "code",
   "execution_count": 8,
   "metadata": {
    "scrolled": false,
    "slideshow": {
     "slide_type": "skip"
    }
   },
   "outputs": [
    {
     "name": "stdout",
     "output_type": "stream",
     "text": [
      "l2\t0.1\n",
      "l2\t1\n",
      "l2\t10\n",
      "l2\t100\n"
     ]
    }
   ],
   "source": [
    "baseline_results = []\n",
    "for p in ('l2',):\n",
    "    for c in (0.1, 1, 10, 100):\n",
    "        print('{}\\t{}'.format(p, c))\n",
    "        baseline_results.append(baseline(train, dev, \n",
    "                                         name='baseline-{}-{}'.format(p, c), \n",
    "                                         penalty=p, C=c, report=False))"
   ]
  },
  {
   "cell_type": "code",
   "execution_count": 9,
   "metadata": {
    "slideshow": {
     "slide_type": "skip"
    }
   },
   "outputs": [
    {
     "name": "stdout",
     "output_type": "stream",
     "text": [
      "0.69\tbaseline-l2-100\t27.691969871520996\n",
      "0.68\tbaseline-l2-10\t22.016381978988647\n",
      "0.63\tbaseline-l2-1\t14.492698907852173\n",
      "0.49\tbaseline-l2-0.1\t10.064432859420776\n"
     ]
    }
   ],
   "source": [
    "for r in sorted(baseline_results, key=lambda d: d['f'], reverse=True):\n",
    "    print('{:.2f}\\t{}\\t{}'.format(r['f'], r['name'], r['time']))"
   ]
  },
  {
   "cell_type": "markdown",
   "metadata": {
    "slideshow": {
     "slide_type": "skip"
    }
   },
   "source": [
    "## fastText"
   ]
  },
  {
   "cell_type": "code",
   "execution_count": 10,
   "metadata": {
    "slideshow": {
     "slide_type": "skip"
    }
   },
   "outputs": [],
   "source": [
    "dim_results = []\n",
    "for epoch in (80, 90, 100):\n",
    "    for dim in (50, 100, 200):\n",
    "        for bucket in (100000, 200000, 300000):\n",
    "            name = 'fastText-e{}-d{}-b{}'.format(epoch, dim, bucket)\n",
    "            dim_results.append(fastText(train, dev, name, \n",
    "                                            bucket=bucket, epoch=epoch, \n",
    "                                            ngrams=2, dim=dim, \n",
    "                                            report=False))"
   ]
  },
  {
   "cell_type": "code",
   "execution_count": 11,
   "metadata": {
    "slideshow": {
     "slide_type": "skip"
    }
   },
   "outputs": [
    {
     "name": "stdout",
     "output_type": "stream",
     "text": [
      "0.68\tfastText-e80-d200-b300000\t16.47849178314209\n",
      "0.68\tfastText-e100-d50-b100000\t5.685117959976196\n",
      "0.68\tfastText-e90-d100-b300000\t10.012304782867432\n",
      "0.68\tfastText-e80-d200-b100000\t11.206809043884277\n",
      "0.68\tfastText-e80-d50-b100000\t4.583491086959839\n"
     ]
    }
   ],
   "source": [
    "for r in list(sorted(dim_results, key=lambda i: i['f'], reverse=True))[:5]:\n",
    "    print('{:.2f}\\t{}\\t{}'.format(r['f'], r['name'], r['time']))"
   ]
  },
  {
   "cell_type": "code",
   "execution_count": 12,
   "metadata": {
    "collapsed": true,
    "slideshow": {
     "slide_type": "skip"
    }
   },
   "outputs": [],
   "source": [
    "results = []\n",
    "results.append(baseline(train, test, name='baseline', penalty='l2', C=10, report=False))\n",
    "results.append(fastText(train, test, \n",
    "                        name='fastText', \n",
    "                        ngrams=2,\n",
    "                        epoch=90, dim=50, bucket=300000, report=False))\n",
    "results.append(fastText(train, test, \n",
    "                        name='fastText-quantized', \n",
    "                        ngrams=2,\n",
    "                        epoch=90, dim=50, bucket=300000, report=False, quantize=True))\n",
    "df = pd.DataFrame(results, columns=['name', 'time', 'size', 'p', 'r', 'f'])\n",
    "df['size'] /= 1000000"
   ]
  },
  {
   "cell_type": "markdown",
   "metadata": {
    "slideshow": {
     "slide_type": "slide"
    }
   },
   "source": [
    "# Data\n",
    "\n"
   ]
  },
  {
   "cell_type": "code",
   "execution_count": 31,
   "metadata": {
    "slideshow": {
     "slide_type": "fragment"
    }
   },
   "outputs": [
    {
     "data": {
      "text/html": [
       "<div>\n",
       "<style>\n",
       "    .dataframe thead tr:only-child th {\n",
       "        text-align: right;\n",
       "    }\n",
       "\n",
       "    .dataframe thead th {\n",
       "        text-align: left;\n",
       "    }\n",
       "\n",
       "    .dataframe tbody tr th {\n",
       "        vertical-align: top;\n",
       "    }\n",
       "</style>\n",
       "<table border=\"1\" class=\"dataframe\">\n",
       "  <thead>\n",
       "    <tr style=\"text-align: right;\">\n",
       "      <th></th>\n",
       "      <th>Count</th>\n",
       "      <th>Label</th>\n",
       "    </tr>\n",
       "  </thead>\n",
       "  <tbody>\n",
       "    <tr>\n",
       "      <th>16</th>\n",
       "      <td>1700</td>\n",
       "      <td>AutoNewspaper</td>\n",
       "    </tr>\n",
       "    <tr>\n",
       "      <th>11</th>\n",
       "      <td>1248</td>\n",
       "      <td>AskReddit</td>\n",
       "    </tr>\n",
       "    <tr>\n",
       "      <th>1</th>\n",
       "      <td>1085</td>\n",
       "      <td>GlobalOffensiveTrade</td>\n",
       "    </tr>\n",
       "    <tr>\n",
       "      <th>6</th>\n",
       "      <td>740</td>\n",
       "      <td>news</td>\n",
       "    </tr>\n",
       "    <tr>\n",
       "      <th>4</th>\n",
       "      <td>691</td>\n",
       "      <td>RocketLeagueExchange</td>\n",
       "    </tr>\n",
       "    <tr>\n",
       "      <th>7</th>\n",
       "      <td>637</td>\n",
       "      <td>newsbotbot</td>\n",
       "    </tr>\n",
       "    <tr>\n",
       "      <th>17</th>\n",
       "      <td>473</td>\n",
       "      <td>The_Donald</td>\n",
       "    </tr>\n",
       "    <tr>\n",
       "      <th>5</th>\n",
       "      <td>472</td>\n",
       "      <td>business</td>\n",
       "    </tr>\n",
       "    <tr>\n",
       "      <th>15</th>\n",
       "      <td>459</td>\n",
       "      <td>videos</td>\n",
       "    </tr>\n",
       "    <tr>\n",
       "      <th>8</th>\n",
       "      <td>389</td>\n",
       "      <td>Showerthoughts</td>\n",
       "    </tr>\n",
       "  </tbody>\n",
       "</table>\n",
       "</div>"
      ],
      "text/plain": [
       "    Count                 Label\n",
       "16   1700         AutoNewspaper\n",
       "11   1248             AskReddit\n",
       "1    1085  GlobalOffensiveTrade\n",
       "6     740                  news\n",
       "4     691  RocketLeagueExchange\n",
       "7     637            newsbotbot\n",
       "17    473            The_Donald\n",
       "5     472              business\n",
       "15    459                videos\n",
       "8     389        Showerthoughts"
      ]
     },
     "execution_count": 31,
     "metadata": {},
     "output_type": "execute_result"
    }
   ],
   "source": [
    "data_stats = pd.DataFrame([{'Label': k, 'Count': v} for k, v in \n",
    "              Counter((i[0] for i in train)).items()]).sort_values('Count', ascending=False)\n",
    "data_stats[:10]"
   ]
  },
  {
   "cell_type": "code",
   "execution_count": 32,
   "metadata": {
    "slideshow": {
     "slide_type": "subslide"
    }
   },
   "outputs": [
    {
     "data": {
      "text/html": [
       "<div>\n",
       "<style>\n",
       "    .dataframe thead tr:only-child th {\n",
       "        text-align: right;\n",
       "    }\n",
       "\n",
       "    .dataframe thead th {\n",
       "        text-align: left;\n",
       "    }\n",
       "\n",
       "    .dataframe tbody tr th {\n",
       "        vertical-align: top;\n",
       "    }\n",
       "</style>\n",
       "<table border=\"1\" class=\"dataframe\">\n",
       "  <thead>\n",
       "    <tr style=\"text-align: right;\">\n",
       "      <th></th>\n",
       "      <th>Count</th>\n",
       "      <th>Label</th>\n",
       "    </tr>\n",
       "  </thead>\n",
       "  <tbody>\n",
       "    <tr>\n",
       "      <th>2</th>\n",
       "      <td>349</td>\n",
       "      <td>funny</td>\n",
       "    </tr>\n",
       "    <tr>\n",
       "      <th>3</th>\n",
       "      <td>278</td>\n",
       "      <td>me_irl</td>\n",
       "    </tr>\n",
       "    <tr>\n",
       "      <th>9</th>\n",
       "      <td>272</td>\n",
       "      <td>gameofthrones</td>\n",
       "    </tr>\n",
       "    <tr>\n",
       "      <th>14</th>\n",
       "      <td>262</td>\n",
       "      <td>gaming</td>\n",
       "    </tr>\n",
       "    <tr>\n",
       "      <th>13</th>\n",
       "      <td>225</td>\n",
       "      <td>aww</td>\n",
       "    </tr>\n",
       "    <tr>\n",
       "      <th>10</th>\n",
       "      <td>207</td>\n",
       "      <td>pics</td>\n",
       "    </tr>\n",
       "    <tr>\n",
       "      <th>18</th>\n",
       "      <td>172</td>\n",
       "      <td>Overwatch</td>\n",
       "    </tr>\n",
       "    <tr>\n",
       "      <th>19</th>\n",
       "      <td>151</td>\n",
       "      <td>MemezForDayz</td>\n",
       "    </tr>\n",
       "    <tr>\n",
       "      <th>12</th>\n",
       "      <td>140</td>\n",
       "      <td>gonewild</td>\n",
       "    </tr>\n",
       "    <tr>\n",
       "      <th>20</th>\n",
       "      <td>49</td>\n",
       "      <td>Ice_Poseidon</td>\n",
       "    </tr>\n",
       "    <tr>\n",
       "      <th>0</th>\n",
       "      <td>1</td>\n",
       "      <td>ShittyCarMod</td>\n",
       "    </tr>\n",
       "  </tbody>\n",
       "</table>\n",
       "</div>"
      ],
      "text/plain": [
       "    Count          Label\n",
       "2     349          funny\n",
       "3     278         me_irl\n",
       "9     272  gameofthrones\n",
       "14    262         gaming\n",
       "13    225            aww\n",
       "10    207           pics\n",
       "18    172      Overwatch\n",
       "19    151   MemezForDayz\n",
       "12    140       gonewild\n",
       "20     49   Ice_Poseidon\n",
       "0       1   ShittyCarMod"
      ]
     },
     "execution_count": 32,
     "metadata": {},
     "output_type": "execute_result"
    }
   ],
   "source": [
    "data_stats[10:]"
   ]
  },
  {
   "cell_type": "code",
   "execution_count": 33,
   "metadata": {
    "slideshow": {
     "slide_type": "subslide"
    }
   },
   "outputs": [
    {
     "data": {
      "text/html": [
       "<div>\n",
       "<style>\n",
       "    .dataframe thead tr:only-child th {\n",
       "        text-align: right;\n",
       "    }\n",
       "\n",
       "    .dataframe thead th {\n",
       "        text-align: left;\n",
       "    }\n",
       "\n",
       "    .dataframe tbody tr th {\n",
       "        vertical-align: top;\n",
       "    }\n",
       "</style>\n",
       "<table border=\"1\" class=\"dataframe\">\n",
       "  <thead>\n",
       "    <tr style=\"text-align: right;\">\n",
       "      <th></th>\n",
       "      <th>Label</th>\n",
       "      <th>Text</th>\n",
       "    </tr>\n",
       "  </thead>\n",
       "  <tbody>\n",
       "    <tr>\n",
       "      <th>0</th>\n",
       "      <td>ShittyCarMod</td>\n",
       "      <td>Maserati with an Aerodynamic Spoiler</td>\n",
       "    </tr>\n",
       "    <tr>\n",
       "      <th>1</th>\n",
       "      <td>GlobalOffensiveTrade</td>\n",
       "      <td>[Store] Double moses M9 #355, Dual side blue g...</td>\n",
       "    </tr>\n",
       "    <tr>\n",
       "      <th>2</th>\n",
       "      <td>funny</td>\n",
       "      <td>Adam Mišík – Tak pojď</td>\n",
       "    </tr>\n",
       "    <tr>\n",
       "      <th>3</th>\n",
       "      <td>me_irl</td>\n",
       "      <td>me 🌞irl</td>\n",
       "    </tr>\n",
       "    <tr>\n",
       "      <th>4</th>\n",
       "      <td>RocketLeagueExchange</td>\n",
       "      <td>[ps4] [h] crimsom mantis [w] offers key prefer</td>\n",
       "    </tr>\n",
       "    <tr>\n",
       "      <th>5</th>\n",
       "      <td>business</td>\n",
       "      <td>Edible Prints on Cake</td>\n",
       "    </tr>\n",
       "    <tr>\n",
       "      <th>6</th>\n",
       "      <td>funny</td>\n",
       "      <td>RT @naukhaizs: #pakistan #karachi #lahore #isl...</td>\n",
       "    </tr>\n",
       "    <tr>\n",
       "      <th>7</th>\n",
       "      <td>news</td>\n",
       "      <td>10 ảnh avatar buồn , thất tình , tâm trạng dàn...</td>\n",
       "    </tr>\n",
       "    <tr>\n",
       "      <th>8</th>\n",
       "      <td>newsbotbot</td>\n",
       "      <td>@washingtonpost: For Facebook , erasing hate s...</td>\n",
       "    </tr>\n",
       "    <tr>\n",
       "      <th>9</th>\n",
       "      <td>Showerthoughts</td>\n",
       "      <td>Russia vs USA</td>\n",
       "    </tr>\n",
       "  </tbody>\n",
       "</table>\n",
       "</div>"
      ],
      "text/plain": [
       "                  Label                                               Text\n",
       "0          ShittyCarMod               Maserati with an Aerodynamic Spoiler\n",
       "1  GlobalOffensiveTrade  [Store] Double moses M9 #355, Dual side blue g...\n",
       "2                 funny                              Adam Mišík – Tak pojď\n",
       "3                me_irl                                            me 🌞irl\n",
       "4  RocketLeagueExchange     [ps4] [h] crimsom mantis [w] offers key prefer\n",
       "5              business                              Edible Prints on Cake\n",
       "6                 funny  RT @naukhaizs: #pakistan #karachi #lahore #isl...\n",
       "7                  news  10 ảnh avatar buồn , thất tình , tâm trạng dàn...\n",
       "8            newsbotbot  @washingtonpost: For Facebook , erasing hate s...\n",
       "9        Showerthoughts                                      Russia vs USA"
      ]
     },
     "execution_count": 33,
     "metadata": {},
     "output_type": "execute_result"
    }
   ],
   "source": [
    "data_df = pd.DataFrame([{'Text': t, 'Label': l} for l, t in train[:10]])\n",
    "data_df"
   ]
  },
  {
   "cell_type": "markdown",
   "metadata": {
    "slideshow": {
     "slide_type": "slide"
    }
   },
   "source": [
    "# Results\n",
    "\n",
    "Comparing models trained on `train`, hyperparameters tuned on `development` and evaluated on `test`:\n",
    "* `baseline` model with L2 regularisation, C10\n",
    "* `fastText` model with epoch 90, dimensions=50\n",
    "* `fastText-quantized` model as above but quantized"
   ]
  },
  {
   "cell_type": "code",
   "execution_count": 13,
   "metadata": {
    "slideshow": {
     "slide_type": "fragment"
    }
   },
   "outputs": [
    {
     "data": {
      "text/html": [
       "<div>\n",
       "<style>\n",
       "    .dataframe thead tr:only-child th {\n",
       "        text-align: right;\n",
       "    }\n",
       "\n",
       "    .dataframe thead th {\n",
       "        text-align: left;\n",
       "    }\n",
       "\n",
       "    .dataframe tbody tr th {\n",
       "        vertical-align: top;\n",
       "    }\n",
       "</style>\n",
       "<table border=\"1\" class=\"dataframe\">\n",
       "  <thead>\n",
       "    <tr style=\"text-align: right;\">\n",
       "      <th></th>\n",
       "      <th>name</th>\n",
       "      <th>time</th>\n",
       "      <th>size</th>\n",
       "      <th>p</th>\n",
       "      <th>r</th>\n",
       "      <th>f</th>\n",
       "    </tr>\n",
       "  </thead>\n",
       "  <tbody>\n",
       "    <tr>\n",
       "      <th>0</th>\n",
       "      <td>baseline</td>\n",
       "      <td>21.397510</td>\n",
       "      <td>176.164019</td>\n",
       "      <td>0.692</td>\n",
       "      <td>0.692</td>\n",
       "      <td>0.692</td>\n",
       "    </tr>\n",
       "    <tr>\n",
       "      <th>1</th>\n",
       "      <td>fastText</td>\n",
       "      <td>6.789109</td>\n",
       "      <td>64.886967</td>\n",
       "      <td>0.689</td>\n",
       "      <td>0.689</td>\n",
       "      <td>0.689</td>\n",
       "    </tr>\n",
       "    <tr>\n",
       "      <th>2</th>\n",
       "      <td>fastText-quantized</td>\n",
       "      <td>54.206348</td>\n",
       "      <td>3.623718</td>\n",
       "      <td>0.702</td>\n",
       "      <td>0.702</td>\n",
       "      <td>0.702</td>\n",
       "    </tr>\n",
       "  </tbody>\n",
       "</table>\n",
       "</div>"
      ],
      "text/plain": [
       "                 name       time        size      p      r      f\n",
       "0            baseline  21.397510  176.164019  0.692  0.692  0.692\n",
       "1            fastText   6.789109   64.886967  0.689  0.689  0.689\n",
       "2  fastText-quantized  54.206348    3.623718  0.702  0.702  0.702"
      ]
     },
     "execution_count": 13,
     "metadata": {},
     "output_type": "execute_result"
    }
   ],
   "source": [
    "df"
   ]
  },
  {
   "cell_type": "code",
   "execution_count": 14,
   "metadata": {
    "collapsed": true,
    "slideshow": {
     "slide_type": "skip"
    }
   },
   "outputs": [],
   "source": [
    "def plot(df):\n",
    "    fig = plt.figure(figsize=(20, 8))\n",
    "    ax = fig.add_subplot(111)\n",
    "    ax2 = ax.twinx()\n",
    "    df.plot(kind='bar', x='name', y='size', ax=ax, color='blue', alpha=0.5, position=0, width=0.3)\n",
    "    df.plot(kind='bar', x='name', y='time', ax=ax2, color='red', alpha=0.5, position=1, width=0.3)"
   ]
  },
  {
   "cell_type": "markdown",
   "metadata": {
    "slideshow": {
     "slide_type": "subslide"
    }
   },
   "source": [
    "# Size vs Time\n",
    "\n",
    "* Left-to-right: `baseline`, `fastText`, `fastText-quantized`\n",
    "* `fastText` smaller and quicker to train than `baseline`\n",
    "* `fastText-quantized` smaller again, but much slower to train"
   ]
  },
  {
   "cell_type": "code",
   "execution_count": 15,
   "metadata": {
    "slideshow": {
     "slide_type": "fragment"
    }
   },
   "outputs": [
    {
     "data": {
      "image/png": "[encoded data removed]",
      "text/plain": [
       "<matplotlib.figure.Figure at 0x11035d518>"
      ]
     },
     "metadata": {},
     "output_type": "display_data"
    }
   ],
   "source": [
    "plot(df)"
   ]
  },
  {
   "cell_type": "markdown",
   "metadata": {
    "slideshow": {
     "slide_type": "subslide"
    }
   },
   "source": [
    "# Performance \n",
    "\n",
    "* very similar performance\n",
    "* quantisation makes little impact on F1 score\n",
    "\n",
    "$\\rightarrow$ **significant difference, probably not...**"
   ]
  },
  {
   "cell_type": "code",
   "execution_count": 16,
   "metadata": {
    "slideshow": {
     "slide_type": "fragment"
    }
   },
   "outputs": [
    {
     "data": {
      "text/plain": [
       "<matplotlib.axes._subplots.AxesSubplot at 0x11035d8d0>"
      ]
     },
     "execution_count": 16,
     "metadata": {},
     "output_type": "execute_result"
    },
    {
     "data": {
      "image/png": "[encoded data removed]",
      "text/plain": [
       "<matplotlib.figure.Figure at 0x10ffd0940>"
      ]
     },
     "metadata": {},
     "output_type": "display_data"
    }
   ],
   "source": [
    "df.plot(kind='bar', x='name', y=['p', 'r', 'f'], ylim=(0, 1), figsize=(20, 8))"
   ]
  },
  {
   "cell_type": "markdown",
   "metadata": {
    "slideshow": {
     "slide_type": "slide"
    }
   },
   "source": [
    "# What I didn't look at here\n",
    "\n",
    "* Sub-word embeddings for performance on unknown words.\n",
    "* Not using hierarchical softmax to give slower, but better models.\n",
    "* Pre-initialising with other word embeddings."
   ]
  },
  {
   "cell_type": "markdown",
   "metadata": {
    "slideshow": {
     "slide_type": "subslide"
    }
   },
   "source": [
    "# Conclusions\n",
    "\n",
    "`fastText` is worth trying.\n",
    "* Works relatively well for text (see also `*Sem` \"embed all the things\")\n",
    "* Can have small model sizes (for mobile or serverless platforms)\n",
    "* Trains quickly enough to tune and spend time getting more data"
   ]
  },
  {
   "cell_type": "markdown",
   "metadata": {
    "slideshow": {
     "slide_type": "subslide"
    }
   },
   "source": [
    "# Thanks!"
   ]
  }
 ],
 "metadata": {
  "celltoolbar": "Slideshow",
  "kernelspec": {
   "display_name": "Python 3",
   "language": "python",
   "name": "python3"
  },
  "language_info": {
   "codemirror_mode": {
    "name": "ipython",
    "version": 3
   },
   "file_extension": ".py",
   "mimetype": "text/x-python",
   "name": "python",
   "nbconvert_exporter": "python",
   "pygments_lexer": "ipython3",
   "version": "3.6.2"
  }
 },
 "nbformat": 4,
 "nbformat_minor": 2
}
